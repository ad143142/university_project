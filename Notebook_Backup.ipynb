{
 "cells": [
  {
   "cell_type": "markdown",
   "id": "2240ea1b",
   "metadata": {
    "extensions": {
     "jupyter_dashboards": {
      "version": 1,
      "views": {
       "default_view": {
        "col": 0,
        "height": 2,
        "row": 8,
        "width": 1
       }
      }
     }
    }
   },
   "source": [
    "# Welcome to our main file ^^\n",
    "## Before you get started, please make sure...\n",
    "1. You have done generating bitstream in Vivado.\n",
    "2. Upload `.hwh` and `.bit` file using whatever method to this folder."
   ]
  },
  {
   "cell_type": "markdown",
   "id": "ef5933ed",
   "metadata": {},
   "source": [
    "## 0. Setting Up"
   ]
  },
  {
   "cell_type": "markdown",
   "id": "896b2b28",
   "metadata": {},
   "source": [
    "#### Cell Description\n",
    "This cell is used to set values to be execuded.<br>\n",
    "\n",
    "Design Files can be found at: <br>\n",
    "* .bit file:<br>`{ project_location }/{project_name}.runs/impl_1/design_1_wrapper.bit`\n",
    "\n",
    "* .hwh file:<br>`{ project_location }/{project_name}.gen/{Design Name 1}/bd/{Design Name 2}/hw_handoff/design_1.hwh`<br>\n",
    "\n",
    "__Note:__ The design files whose filename ends with `.bit` or `.hwh` __must be renamed to be identical__."
   ]
  },
  {
   "cell_type": "code",
   "execution_count": 1,
   "id": "855db663",
   "metadata": {},
   "outputs": [],
   "source": [
    "# Design File. More detail below.\n",
    "design_name = \"top_warpper.bit\"\n",
    "\n",
    "# AXI Address\n",
    "Setting_Kernal_Size_AXI_Address     = 0b1000\n",
    "Setting_Ofmap_Ifmap_Channel_Address = 0b0000\n",
    "Setting_Stride_Ofmap_Width_Address  = 0b0100\n",
    "Write_Weight_Address                = 0b0000\n",
    "Compute_Start_Address               = 0b0000\n",
    "Getting_Return_Address              = 0b1100\n",
    "\n",
    "# Preset Values\n",
    "FUNC         = 0\n",
    "IFMAPS_WIDTH = 7\n",
    "IFMAPS_HIGHT = 7\n",
    "IFMAPS_CH    = 7\n",
    "WEIGHT_WIDTH = 3\n",
    "WEIGHT_HIGHT = 3\n",
    "WEIGHT_NUM   = 3\n",
    "STRIDE       = 1\n",
    "\n",
    "# Instruction\n",
    "INST_WRITE_WEIGHT = 12\n",
    "INST_COMPUTE      = 87\n",
    "INST_LOADIFMAPS   = 88"
   ]
  },
  {
   "cell_type": "markdown",
   "id": "d5b7a6c7",
   "metadata": {},
   "source": [
    "#### Cell Description\n",
    "This cell is to calcualte the real number (WDATA of AXI) to be transmitted.<br>"
   ]
  },
  {
   "cell_type": "code",
   "execution_count": 2,
   "id": "e8d5172d",
   "metadata": {},
   "outputs": [],
   "source": [
    "# Calculate WDATAs\n",
    "\n",
    "# Set Kernal Size\n",
    "Kernal_Size_WDATA = 0b00001 << WEIGHT_WIDTH\n",
    "\n",
    "# Set Output Feature Map and Input Feature Map Channel Number\n",
    "Ofmaps_Ifmaps_Channel_WDATA = (WEIGHT_NUM << 12 | IFMAPS_CH) << 8\n",
    "\n",
    "# Set Stride & Output Feature Map Width\n",
    "OFMAPS_WIDTH = round(((IFMAPS_WIDTH - WEIGHT_WIDTH) / (STRIDE + 1)));\n",
    "Stride_Ofmaps_Func_WDATA = FUNC | OFMAPS_WIDTH << 2 | STRIDE << 12"
   ]
  },
  {
   "cell_type": "markdown",
   "id": "8d3dd17d",
   "metadata": {
    "extensions": {
     "jupyter_dashboards": {
      "version": 1,
      "views": {
       "default_view": {
        "col": 0,
        "height": 2,
        "row": 6,
        "width": 1
       }
      }
     }
    }
   },
   "source": [
    "#### Cell Description\n",
    "This cell is used for import required packages. Also burn the `.bit` and `.hwh` file onto the PL side.\n",
    "\n",
    "__Note:__ The filename of these two files __must be identical__.<br>\n",
    "\n",
    "Only the `.bit` file needs to be added. Overlay constructor will find the `.hwh` file itself"
   ]
  },
  {
   "cell_type": "code",
   "execution_count": 3,
   "id": "f98ff5eb",
   "metadata": {
    "extensions": {
     "jupyter_dashboards": {
      "version": 1,
      "views": {
       "default_view": {
        "hidden": true
       }
      }
     }
    }
   },
   "outputs": [
    {
     "data": {
      "application/javascript": [
       "\n",
       "try {\n",
       "require(['notebook/js/codecell'], function(codecell) {\n",
       "  codecell.CodeCell.options_default.highlight_modes[\n",
       "      'magic_text/x-csrc'] = {'reg':[/^%%microblaze/]};\n",
       "  Jupyter.notebook.events.one('kernel_ready.Kernel', function(){\n",
       "      Jupyter.notebook.get_cells().map(function(cell){\n",
       "          if (cell.cell_type == 'code'){ cell.auto_highlight(); } }) ;\n",
       "  });\n",
       "});\n",
       "} catch (e) {};\n"
      ]
     },
     "metadata": {},
     "output_type": "display_data"
    },
    {
     "data": {
      "application/javascript": [
       "\n",
       "try {\n",
       "require(['notebook/js/codecell'], function(codecell) {\n",
       "  codecell.CodeCell.options_default.highlight_modes[\n",
       "      'magic_text/x-csrc'] = {'reg':[/^%%pybind11/]};\n",
       "  Jupyter.notebook.events.one('kernel_ready.Kernel', function(){\n",
       "      Jupyter.notebook.get_cells().map(function(cell){\n",
       "          if (cell.cell_type == 'code'){ cell.auto_highlight(); } }) ;\n",
       "  });\n",
       "});\n",
       "} catch (e) {};\n"
      ]
     },
     "metadata": {},
     "output_type": "display_data"
    }
   ],
   "source": [
    "from pynq import Overlay\n",
    "from pynq import allocate\n",
    "from pynq import MMIO\n",
    "\n",
    "import numpy as np\n",
    "\n",
    "# Only the .bit file is needed.\n",
    "ol = Overlay(design_name)"
   ]
  },
  {
   "cell_type": "markdown",
   "id": "cda9a341",
   "metadata": {},
   "source": [
    "## 1. Sending Command & Preset Values"
   ]
  },
  {
   "cell_type": "markdown",
   "id": "5043d224",
   "metadata": {},
   "source": [
    "#### Cell Description\n",
    "\n",
    "This cell is used to send AXI Lite signal to PL side.<br>\n",
    "MMIO API Reference: [here](https://pynq.readthedocs.io/en/v3.0.0/pynq_libraries/mmio.html)"
   ]
  },
  {
   "cell_type": "code",
   "execution_count": 4,
   "id": "dd70ef74",
   "metadata": {
    "extensions": {
     "jupyter_dashboards": {
      "version": 1,
      "views": {
       "default_view": {
        "hidden": true
       }
      }
     }
    }
   },
   "outputs": [
    {
     "name": "stdout",
     "output_type": "stream",
     "text": [
      "ret = 0. Getting return value..\n",
      "ret = 1. Write weight done.\n"
     ]
    }
   ],
   "source": [
    "mmio = MMIO(0x40000000, 0x1000) # allocate (base address, length)\n",
    "\n",
    "# Set Kernal Size\n",
    "mmio.write_reg(Setting_Kernal_Size_AXI_Address, Kernal_Size_WDATA)\n",
    "\n",
    "# Set Output Feature Map and Input Feature Map Channel Number\n",
    "mmio.write_reg(Setting_Ofmap_Ifmap_Channel_Address, Ofmaps_Ifmaps_Channel_WDATA)\n",
    "\n",
    "# Set Stride & Output Feature Map Width\n",
    "mmio.write_reg(Setting_Stride_Ofmap_Width_Address, Stride_Ofmaps_Func_WDATA)\n",
    "\n",
    "# Send Start Writing Weight\n",
    "mmio.write_reg(Write_Weight_Address, INST_WRITE_WEIGHT)\n",
    "\n",
    "# Writing Weight\n",
    "# To be continued...\n",
    "\n",
    "# Read Return Value\n",
    "ret = 0\n",
    "print('ret = {}. Getting return value.'.format(ret), end = '')\n",
    "while ret != 1:\n",
    "    ret = mmio.read(Getting_Return_Address)\n",
    "    print('.', end = '')\n",
    "print('\\nret = {}. Write weight done.'.format(ret))"
   ]
  },
  {
   "cell_type": "markdown",
   "id": "68a36d3c",
   "metadata": {},
   "source": [
    "## 2. Start Compute\n",
    "### Work In Progress.."
   ]
  },
  {
   "cell_type": "markdown",
   "id": "40bb5b0d",
   "metadata": {},
   "source": [
    "#### Cell Description\n",
    "\n",
    "Set up DMA"
   ]
  },
  {
   "cell_type": "code",
   "execution_count": 5,
   "id": "6ebd9c47",
   "metadata": {
    "extensions": {
     "jupyter_dashboards": {
      "version": 1,
      "views": {
       "default_view": {
        "hidden": true
       }
      }
     }
    }
   },
   "outputs": [],
   "source": [
    "dma = ol.axi_dma_0\n",
    "dma_send = ol.axi_dma_0.sendchannel\n",
    "dma_recv = ol.axi_dma_0.recvchannel"
   ]
  }
 ],
 "metadata": {
  "extensions": {
   "jupyter_dashboards": {
    "activeView": "default_view",
    "version": 1,
    "views": {
     "default_view": {
      "cellMargin": 10,
      "defaultCellHeight": 40,
      "maxColumns": 12,
      "name": "active_view",
      "type": "grid"
     }
    }
   }
  },
  "kernelspec": {
   "display_name": "Python 3 (ipykernel)",
   "language": "python",
   "name": "python3"
  },
  "language_info": {
   "codemirror_mode": {
    "name": "ipython",
    "version": 3
   },
   "file_extension": ".py",
   "mimetype": "text/x-python",
   "name": "python",
   "nbconvert_exporter": "python",
   "pygments_lexer": "ipython3",
   "version": "3.10.4"
  }
 },
 "nbformat": 4,
 "nbformat_minor": 5
}
